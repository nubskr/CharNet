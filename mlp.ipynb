{
  "cells": [
    {
      "cell_type": "code",
      "execution_count": 1,
      "id": "b0887959-1e39-4e58-b2e6-c71117fac7ed",
      "metadata": {
        "colab": {
          "base_uri": "https://localhost:8080/"
        },
        "id": "b0887959-1e39-4e58-b2e6-c71117fac7ed",
        "outputId": "f7198f69-3075-46d1-e919-82d751a85581"
      },
      "outputs": [
        {
          "name": "stdout",
          "output_type": "stream",
          "text": [
            "32033\n"
          ]
        }
      ],
      "source": [
        "import torch\n",
        "words = (open('./dataset/data.txt','r')).read().splitlines()\n",
        "print(len(words))"
      ]
    },
    {
      "cell_type": "code",
      "execution_count": 4,
      "id": "f1de2abe-5554-4e0f-84d0-820ea55f2afb",
      "metadata": {
        "colab": {
          "base_uri": "https://localhost:8080/"
        },
        "id": "f1de2abe-5554-4e0f-84d0-820ea55f2afb",
        "outputId": "58d812e6-2d8c-4e46-88eb-bf8f0e8d98e6"
      },
      "outputs": [
        {
          "data": {
            "text/plain": [
              "['emma', 'olivia', 'ava', 'isabella', 'sophia', 'charlotte']"
            ]
          },
          "execution_count": 4,
          "metadata": {},
          "output_type": "execute_result"
        }
      ],
      "source": [
        "words[:6]"
      ]
    },
    {
      "cell_type": "code",
      "execution_count": 66,
      "id": "1a5a4b02-f405-4fbf-9a31-6c19c85e7c18",
      "metadata": {
        "colab": {
          "base_uri": "https://localhost:8080/"
        },
        "id": "1a5a4b02-f405-4fbf-9a31-6c19c85e7c18",
        "outputId": "4a5f633d-8c63-4a5d-c2f6-a1e6d2ee1a04"
      },
      "outputs": [
        {
          "name": "stdout",
          "output_type": "stream",
          "text": [
            "[[0, 5, 13], [5, 13, 13]]\n"
          ]
        }
      ],
      "source": [
        "X = []\n",
        "Y = []\n",
        "\n",
        "def get(s):\n",
        "    return (ord(s) - ord('a')) + 1\n",
        "\n",
        "for word in words[:2000]:\n",
        "    for i in range(len(word)):\n",
        "        now = [0, 0, 0]\n",
        "        now1 = 0\n",
        "        now[1] = get(word[i])\n",
        "        if(i - 1 >= 0):\n",
        "            now[0] = get(word[i-1])\n",
        "        if(i + 1 < len(word)):\n",
        "            now[2] = get(word[i+1])\n",
        "        if(i + 2 < len(word)):\n",
        "            now1 = get(word[i+2])\n",
        "        X.append(now)\n",
        "        Y.append(now1)\n",
        "\n",
        "print(X[:2])\n",
        "#print(Y)"
      ]
    },
    {
      "cell_type": "code",
      "execution_count": 67,
      "id": "f7168d20-2666-47cb-88cf-eb4e83ce2aef",
      "metadata": {
        "colab": {
          "base_uri": "https://localhost:8080/"
        },
        "id": "f7168d20-2666-47cb-88cf-eb4e83ce2aef",
        "outputId": "8b997ebf-a134-4848-84df-8163ac014051"
      },
      "outputs": [
        {
          "data": {
            "text/plain": [
              "torch.Size([27, 2])"
            ]
          },
          "execution_count": 67,
          "metadata": {},
          "output_type": "execute_result"
        }
      ],
      "source": [
        "# uff, we have the dataset, now we make preparations\n",
        "g = torch.Generator().manual_seed(69*420)\n",
        "C = torch.randn((27,2),generator=g,requires_grad=True) # this is the lookup table\n",
        "C.shape"
      ]
    },
    {
      "cell_type": "code",
      "execution_count": 68,
      "id": "f520f324-ddf9-48a2-8dc4-08f1dd83d65f",
      "metadata": {
        "colab": {
          "base_uri": "https://localhost:8080/"
        },
        "id": "f520f324-ddf9-48a2-8dc4-08f1dd83d65f",
        "outputId": "c10a0393-ba30-44e9-ff30-72ca7f3ecec2"
      },
      "outputs": [
        {
          "data": {
            "text/plain": [
              "torch.Size([12035, 6])"
            ]
          },
          "execution_count": 68,
          "metadata": {},
          "output_type": "execute_result"
        }
      ],
      "source": [
        "# we need to prepare it for processing by the hidden layer\n",
        "# so we need to....?\n",
        "# we need to linearise the data C[X] so that it is easier to play with\n",
        "# we convert [36,3,2] to [36,6] by just putting all three things linearly\n",
        "N = C[X].view(len(C[X]),-1)\n",
        "N.shape\n",
        "\n",
        "# I guess that's what was needed"
      ]
    },
    {
      "cell_type": "code",
      "execution_count": 69,
      "id": "121a02f5-68f8-4a04-8e20-4a04aee2fade",
      "metadata": {
        "colab": {
          "base_uri": "https://localhost:8080/"
        },
        "id": "121a02f5-68f8-4a04-8e20-4a04aee2fade",
        "outputId": "07aff02a-8ebf-41a2-cad4-c3d6fb744934"
      },
      "outputs": [
        {
          "name": "stdout",
          "output_type": "stream",
          "text": [
            "torch.Size([12035, 6])\n",
            "torch.Size([6, 100])\n",
            "tensor([[-0.5084,  0.9821,  0.9948,  ...,  0.8410,  0.9050, -0.9690],\n",
            "        [ 0.3706, -0.5361,  0.9033,  ...,  0.3452,  0.9829, -0.9952],\n",
            "        [-0.6352, -0.2983,  0.3272,  ...,  0.9990, -0.8990, -0.2820],\n",
            "        ...,\n",
            "        [-0.1802,  0.9958,  0.9993,  ...,  0.6687,  0.4977, -0.0753],\n",
            "        [-1.0000, -0.9772, -0.9998,  ..., -1.0000,  0.9829, -0.9998],\n",
            "        [-0.9878,  0.9774, -0.2187,  ...,  0.9869, -0.9753,  0.9998]],\n",
            "       grad_fn=<TanhBackward0>)\n"
          ]
        }
      ],
      "source": [
        "# The hidden layer just does a tanh and sends it forward to the softmax\n",
        "W1 = torch.randn((6,100),generator=g,requires_grad=True)\n",
        "B1 = torch.randn(100,generator=g,requires_grad=True)\n",
        "\n",
        "print(N.shape)\n",
        "print(W1.shape)\n",
        "N = torch.tanh(N@W1 + B1)\n",
        "print(N)"
      ]
    },
    {
      "cell_type": "code",
      "execution_count": 70,
      "id": "d1bf8979-97a8-432f-bda5-95938e209bc4",
      "metadata": {
        "colab": {
          "base_uri": "https://localhost:8080/"
        },
        "id": "d1bf8979-97a8-432f-bda5-95938e209bc4",
        "outputId": "52a43e45-fe4c-4dc6-f5e1-4479c1706885"
      },
      "outputs": [
        {
          "data": {
            "text/plain": [
              "torch.Size([12035, 100])"
            ]
          },
          "execution_count": 70,
          "metadata": {},
          "output_type": "execute_result"
        }
      ],
      "source": [
        "N.shape"
      ]
    },
    {
      "cell_type": "code",
      "execution_count": 71,
      "id": "8ce89dcd-a371-49b7-a65c-c6ed57ce990b",
      "metadata": {
        "colab": {
          "base_uri": "https://localhost:8080/"
        },
        "id": "8ce89dcd-a371-49b7-a65c-c6ed57ce990b",
        "outputId": "f9643775-3c74-4318-c1e3-231c052f3fce"
      },
      "outputs": [
        {
          "data": {
            "text/plain": [
              "tensor([[3.4689e-10, 1.2802e-04, 2.3130e-05,  ..., 4.5349e-01, 3.2673e-04,\n",
              "         5.0097e-07],\n",
              "        [7.6284e-10, 1.0355e-02, 2.0179e-02,  ..., 6.5103e-01, 2.4623e-04,\n",
              "         2.7340e-08],\n",
              "        [4.6093e-05, 3.9172e-06, 9.9161e-01,  ..., 1.0914e-10, 3.8243e-05,\n",
              "         3.6075e-08],\n",
              "        ...,\n",
              "        [1.6829e-22, 1.7216e-17, 2.7303e-15,  ..., 7.0792e-12, 3.1246e-10,\n",
              "         1.0966e-11],\n",
              "        [1.0614e-04, 7.2293e-05, 3.2279e-01,  ..., 4.0338e-02, 4.1019e-09,\n",
              "         5.9438e-10],\n",
              "        [1.7697e-06, 5.3031e-11, 2.9182e-03,  ..., 5.6724e-12, 8.2922e-10,\n",
              "         1.3284e-07]], grad_fn=<DivBackward0>)"
            ]
          },
          "execution_count": 71,
          "metadata": {},
          "output_type": "execute_result"
        }
      ],
      "source": [
        "# softmax layer, we get [36,100] from last layer\n",
        "# we must return a single layer of size 26 with the probabilities of all chars\n",
        "W2 = torch.randn((100,27),generator=g,requires_grad=True)\n",
        "B2 = torch.randn(27,generator=g,requires_grad=True)\n",
        "\n",
        "logits = N@W2 + B2\n",
        "counts = logits.exp() # remove the negative logits\n",
        "probs = counts / counts.sum(1,keepdims=True)\n",
        "\n",
        "probs"
      ]
    },
    {
      "cell_type": "code",
      "execution_count": 72,
      "id": "53c1aebf-1ade-41d7-af37-358684ae9831",
      "metadata": {
        "id": "53c1aebf-1ade-41d7-af37-358684ae9831"
      },
      "outputs": [],
      "source": [
        "# now we have the final probabilities for each input?, oh wait, its all random right now, we need to train it\n",
        "# but how do\n",
        "# the idea is: with a neural network, we are just processing the probabilities, we get what we put in\n",
        "# its totally random right now, but I need to train it\n",
        "# but how do I get the output of the things I put in ?\n",
        "# we have already put in the things that we need to find the probablities of\n",
        "# how th find em ?\n",
        "# the things is, we need to find the log likelihood of the expected ouputs with a given input\n",
        "# and we just have to optimize for that\n",
        "# okayyy"
      ]
    },
    {
      "cell_type": "code",
      "execution_count": 72,
      "id": "2b589637-93b6-4c39-b5ef-5c5ae291c5fa",
      "metadata": {
        "id": "2b589637-93b6-4c39-b5ef-5c5ae291c5fa"
      },
      "outputs": [],
      "source": []
    },
    {
      "cell_type": "code",
      "execution_count": 73,
      "id": "4eddb3b6-4673-469a-bd6a-533ae000794e",
      "metadata": {
        "colab": {
          "base_uri": "https://localhost:8080/",
          "height": 465
        },
        "id": "4eddb3b6-4673-469a-bd6a-533ae000794e",
        "outputId": "75e2e892-92b6-4342-8a9b-cfa3f3da1efc"
      },
      "outputs": [
        {
          "name": "stdout",
          "output_type": "stream",
          "text": [
            "tensor(15.6360, grad_fn=<NegBackward0>)\n",
            "2.0697872638702393\n"
          ]
        },
        {
          "data": {
            "image/png": "[encoded data removed]",
            "text/plain": [
              "<Figure size 640x480 with 1 Axes>"
            ]
          },
          "metadata": {},
          "output_type": "display_data"
        }
      ],
      "source": [
        "iterations = []\n",
        "losses = []\n",
        "import matplotlib.pyplot as plt\n",
        "\n",
        "decay_rate = 0.26\n",
        "learning_rate = 1.55\n",
        "current_rate = 1.55\n",
        "\n",
        "def get_loss(probs):\n",
        "    likelihood = 0\n",
        "    for i in range(len(X)):\n",
        "        pro = probs[i, Y[i]]\n",
        "        likelihood += torch.log(pro)\n",
        "    likelihood /= len(X)\n",
        "    loss = -likelihood\n",
        "    return loss\n",
        "\n",
        "\n",
        "def reset_grads():\n",
        "    if W1.grad is not None:\n",
        "        W1.grad.zero_()\n",
        "    if W2.grad is not None:\n",
        "        W2.grad.zero_()\n",
        "    if B1.grad is not None:\n",
        "        B1.grad.zero_()\n",
        "    if B2.grad is not None:\n",
        "        B2.grad.zero_()\n",
        "    if C.grad is not None:\n",
        "        C.grad.zero_()\n",
        "\n",
        "def gradient_descent():\n",
        "    W1.data -= current_rate * W1.grad\n",
        "    W2.data -= current_rate * W2.grad\n",
        "    B1.data -= current_rate * B1.grad\n",
        "    B2.data -= current_rate * B2.grad\n",
        "    C.data -= current_rate * C.grad\n",
        "\n",
        "def update_probs():\n",
        "    N = C[X].view(len(C[X]), -1)\n",
        "    N = torch.tanh(N @ W1 + B1)\n",
        "    logits = N @ W2 + B2\n",
        "    counts = logits.exp()\n",
        "    probs = counts / counts.sum(1, keepdim=True)\n",
        "    return probs\n",
        "\n",
        "# init loss\n",
        "print(get_loss(probs))\n",
        "\n",
        "# Training loop\n",
        "for descent in range(1000):\n",
        "    loss = get_loss(probs)\n",
        "\n",
        "    # Reset gradients\n",
        "    reset_grads()\n",
        "\n",
        "    loss.backward()\n",
        "\n",
        "    gradient_descent()\n",
        "\n",
        "    current_rate = learning_rate * (1 / (1 + descent*decay_rate))\n",
        "\n",
        "    probs = update_probs()\n",
        "\n",
        "    iterations.append(descent)\n",
        "    losses.append(loss.item())\n",
        "\n",
        "    #print(loss.item())\n",
        "\n",
        "plt.plot(iterations,losses)\n",
        "print(loss.item())"
      ]
    },
    {
      "cell_type": "code",
      "execution_count": 80,
      "id": "swJ54xbg54lK",
      "metadata": {
        "colab": {
          "base_uri": "https://localhost:8080/",
          "height": 676
        },
        "id": "swJ54xbg54lK",
        "outputId": "be7a47ff-50f9-4e30-e6e6-8b2268ffc453"
      },
      "outputs": [
        {
          "data": {
            "image/png": "[encoded data removed]",
            "text/plain": [
              "<Figure size 800x800 with 1 Axes>"
            ]
          },
          "metadata": {},
          "output_type": "display_data"
        }
      ],
      "source": [
        "def get(i):\n",
        "    if i < 0 or i > 26:\n",
        "        return '.'\n",
        "    else:\n",
        "        return chr(ord('a') + i)\n",
        "\n",
        "plt.figure(figsize=(8,8))\n",
        "plt.scatter(C[:,0].data, C[:,1].data, s=200)\n",
        "for i in range(C.shape[0]):\n",
        "    plt.text(C[i,0].item(), C[i,1].item(), get(i), ha=\"center\", va=\"center\", color='white')\n",
        "plt.grid('minor')"
      ]
    },
    {
      "cell_type": "code",
      "execution_count": null,
      "id": "30WkD4xDnE6o",
      "metadata": {
        "id": "30WkD4xDnE6o"
      },
      "outputs": [],
      "source": []
    }
  ],
  "metadata": {
    "colab": {
      "provenance": []
    },
    "kernelspec": {
      "display_name": "Python 3 (ipykernel)",
      "language": "python",
      "name": "python3"
    },
    "language_info": {
      "codemirror_mode": {
        "name": "ipython",
        "version": 3
      },
      "file_extension": ".py",
      "mimetype": "text/x-python",
      "name": "python",
      "nbconvert_exporter": "python",
      "pygments_lexer": "ipython3",
      "version": "3.12.3"
    }
  },
  "nbformat": 4,
  "nbformat_minor": 5
}
