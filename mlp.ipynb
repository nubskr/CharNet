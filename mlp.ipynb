{
  "cells": [
    {
      "cell_type": "code",
      "execution_count": 209,
      "id": "b0887959-1e39-4e58-b2e6-c71117fac7ed",
      "metadata": {
        "colab": {
          "base_uri": "https://localhost:8080/"
        },
        "id": "b0887959-1e39-4e58-b2e6-c71117fac7ed",
        "outputId": "f7198f69-3075-46d1-e919-82d751a85581"
      },
      "outputs": [
        {
          "name": "stdout",
          "output_type": "stream",
          "text": [
            "['emma']\n"
          ]
        }
      ],
      "source": [
        "import matplotlib.pyplot as plt\n",
        "import torch\n",
        "words = (open('./dataset/data.txt','r')).read().splitlines()\n",
        "print(words[:1])"
      ]
    },
    {
      "cell_type": "code",
      "execution_count": 210,
      "id": "f1de2abe-5554-4e0f-84d0-820ea55f2afb",
      "metadata": {
        "colab": {
          "base_uri": "https://localhost:8080/"
        },
        "id": "f1de2abe-5554-4e0f-84d0-820ea55f2afb",
        "outputId": "58d812e6-2d8c-4e46-88eb-bf8f0e8d98e6"
      },
      "outputs": [],
      "source": [
        "batch_size = 6\n",
        "hidden_layer = 100"
      ]
    },
    {
      "cell_type": "code",
      "execution_count": 211,
      "id": "1a5a4b02-f405-4fbf-9a31-6c19c85e7c18",
      "metadata": {
        "colab": {
          "base_uri": "https://localhost:8080/"
        },
        "id": "1a5a4b02-f405-4fbf-9a31-6c19c85e7c18",
        "outputId": "4a5f633d-8c63-4a5d-c2f6-a1e6d2ee1a04"
      },
      "outputs": [],
      "source": [
        "X = []\n",
        "Y = []\n",
        "\n",
        "def get(s):\n",
        "    return (ord(s) - ord('a')) + 1\n",
        "\n",
        "for word in words[:batch_size]:\n",
        "    for i in range(len(word)):\n",
        "        now = [0, 0, 0]\n",
        "        now1 = 0\n",
        "        now[1] = get(word[i])\n",
        "        if(i - 1 >= 0):\n",
        "            now[0] = get(word[i-1])\n",
        "        if(i + 1 < len(word)):\n",
        "            now[2] = get(word[i+1])\n",
        "        if(i + 2 < len(word)):\n",
        "            now1 = get(word[i+2])\n",
        "        X.append(now)\n",
        "        Y.append(now1)\n"
      ]
    },
    {
      "cell_type": "code",
      "execution_count": 213,
      "id": "f7168d20-2666-47cb-88cf-eb4e83ce2aef",
      "metadata": {
        "colab": {
          "base_uri": "https://localhost:8080/"
        },
        "id": "f7168d20-2666-47cb-88cf-eb4e83ce2aef",
        "outputId": "8b997ebf-a134-4848-84df-8163ac014051"
      },
      "outputs": [
        {
          "data": {
            "image/png": "[encoded data removed]",
            "text/plain": [
              "<Figure size 640x480 with 1 Axes>"
            ]
          },
          "metadata": {},
          "output_type": "display_data"
        }
      ],
      "source": [
        "# uff, we have the dataset, now we make preparations\n",
        "context_length = 3\n",
        "g = torch.Generator().manual_seed(69)\n",
        "\n",
        "# embeddings\n",
        "C = torch.randn((27,2),generator=g,requires_grad=True)\n",
        "\n",
        "N = C[X].view(len(C[X]),-1)\n",
        "# print(N.shape)\n",
        "\n",
        "W1 = torch.randn((context_length*2,hidden_layer),generator=g,requires_grad=True)\n",
        "W1.data.mul_(0.00001)\n",
        "B1 = torch.randn(hidden_layer,generator=g,requires_grad=True)\n",
        "B1.data.mul_(0.1)\n",
        "W2 = torch.randn((hidden_layer,27),generator=g,requires_grad=True)\n",
        "W2.data.mul_(0.1)\n",
        "B2 = torch.randn(27,generator=g,requires_grad=True)\n",
        "B2.data.mul_(0.0)\n",
        "\n",
        "N = torch.tanh(N@W1 + B1)\n",
        "# print(N.shape)\n",
        "\n",
        "tmp = N.view(-1)\n",
        "plt.hist(tmp.tolist(),bins=50)\n",
        "\n",
        "# TODO: add batchnorm to each hidden layer\n",
        "\n",
        "logits = N@W2 + B2\n",
        "counts = logits.exp() # remove the negative logits\n",
        "probs = counts / counts.sum(1,keepdims=True)\n",
        "\n",
        "# # plt.hist(N.view(-1).tolist(),bins=50, alpha=1)\n",
        "# plt.Figure(figsize=(20,10))\n",
        "# plt.imshow(N.tolist(),aspect='auto',cmap='gray',interpolation='nearest')"
      ]
    },
    {
      "cell_type": "code",
      "execution_count": 215,
      "id": "4eddb3b6-4673-469a-bd6a-533ae000794e",
      "metadata": {
        "colab": {
          "base_uri": "https://localhost:8080/",
          "height": 465
        },
        "id": "4eddb3b6-4673-469a-bd6a-533ae000794e",
        "outputId": "75e2e892-92b6-4342-8a9b-cfa3f3da1efc"
      },
      "outputs": [
        {
          "name": "stdout",
          "output_type": "stream",
          "text": [
            "init loss 3.27038311958313\n",
            "3.27038311958313\n",
            "0.09744887799024582\n",
            "0.05976494029164314\n",
            "0.047731366008520126\n",
            "0.04150652512907982\n",
            "0.03761892020702362\n"
          ]
        },
        {
          "data": {
            "image/png": "[encoded data removed]",
            "text/plain": [
              "<Figure size 640x480 with 1 Axes>"
            ]
          },
          "metadata": {},
          "output_type": "display_data"
        }
      ],
      "source": [
        "iterations = []\n",
        "losses = []\n",
        "\n",
        "decay_rate = 0.2\n",
        "learning_rate = 3\n",
        "current_rate = 3\n",
        "\n",
        "def get_eval(probs):\n",
        "    # returns the eval loss without calculating the gradients, way faster that way\n",
        "    # todo\n",
        "    return\n",
        "\n",
        "def get_loss(probs):\n",
        "    likelihood = 0\n",
        "    for i in range(len(X)):\n",
        "        pro = probs[i, Y[i]]\n",
        "        likelihood += torch.log(pro)\n",
        "    likelihood /= len(X)\n",
        "    loss = -likelihood\n",
        "    return loss\n",
        "\n",
        "\n",
        "def reset_grads():\n",
        "    if W1.grad is not None:\n",
        "        W1.grad.zero_()\n",
        "    if W2.grad is not None:\n",
        "        W2.grad.zero_()\n",
        "    if B1.grad is not None:\n",
        "        B1.grad.zero_()\n",
        "    if B2.grad is not None:\n",
        "        B2.grad.zero_()\n",
        "    if C.grad is not None:\n",
        "        C.grad.zero_()\n",
        "\n",
        "def gradient_descent():\n",
        "    W1.data -= current_rate * W1.grad\n",
        "    W2.data -= current_rate * W2.grad\n",
        "    B1.data -= current_rate * B1.grad\n",
        "    B2.data -= current_rate * B2.grad\n",
        "    C.data -= current_rate * C.grad\n",
        "\n",
        "def update_probs():\n",
        "    N = C[X].view(len(C[X]), -1)\n",
        "    N = torch.tanh(N @ W1 + B1)\n",
        "    logits = N @ W2 + B2\n",
        "    counts = logits.exp()\n",
        "    probs = counts / counts.sum(1, keepdim=True)\n",
        "    return probs\n",
        "\n",
        "# init loss\n",
        "print(\"init loss \" + str(get_loss(probs).item()))\n",
        "\n",
        "# Training loop\n",
        "for descent in range(500):\n",
        "    loss = get_loss(probs)\n",
        "\n",
        "    # Reset gradients\n",
        "    reset_grads()\n",
        "\n",
        "    loss.backward()\n",
        "\n",
        "    gradient_descent()\n",
        "\n",
        "    current_rate = learning_rate * (1 / (1 + descent*decay_rate))\n",
        "\n",
        "    probs = update_probs()\n",
        "\n",
        "    iterations.append(descent)\n",
        "    losses.append(loss.item())\n",
        "\n",
        "    if descent % 100 == 0:\n",
        "        print(loss.item())\n",
        "    \n",
        "\n",
        "plt.plot(iterations,losses)\n",
        "print(loss.item())"
      ]
    },
    {
      "cell_type": "code",
      "execution_count": 216,
      "id": "swJ54xbg54lK",
      "metadata": {
        "colab": {
          "base_uri": "https://localhost:8080/",
          "height": 676
        },
        "id": "swJ54xbg54lK",
        "outputId": "be7a47ff-50f9-4e30-e6e6-8b2268ffc453"
      },
      "outputs": [
        {
          "name": "stdout",
          "output_type": "stream",
          "text": [
            "torch.Size([27, 2])\n"
          ]
        },
        {
          "data": {
            "image/png": "[encoded data removed]",
            "text/plain": [
              "<Figure size 800x800 with 1 Axes>"
            ]
          },
          "metadata": {},
          "output_type": "display_data"
        }
      ],
      "source": [
        "def get(i):\n",
        "    if i == 0:\n",
        "        return '.'\n",
        "    else:\n",
        "        return chr(ord('a') + i - 1)\n",
        "\n",
        "plt.figure(figsize=(8,8))\n",
        "plt.scatter(C[:,0].data, C[:,1].data, s=200)\n",
        "print(C.shape)\n",
        "for i in range(C.shape[0]):\n",
        "    plt.text(C[i,0].item(), C[i,1].item(), get(i), ha=\"center\", va=\"center\", color='white')\n",
        "plt.grid('minor')"
      ]
    },
    {
      "cell_type": "code",
      "execution_count": null,
      "id": "30WkD4xDnE6o",
      "metadata": {
        "id": "30WkD4xDnE6o"
      },
      "outputs": [],
      "source": [
        "class Linear:\n",
        "    # a liner layer of some neurons\n",
        "    def __init__(self,fan_in,fan_out,bias=True):\n",
        "        self.weight = torch.randn((fan_in,fan_out),generator=g)\n",
        "        self.bias = torch.zeros(fan_out) if bias else None\n",
        "\n",
        "    def __call__(self,x):\n",
        "        # forward pass\n",
        "        self.out = x @ self.weight\n",
        "        if(self.bias is not None):\n",
        "            self.out += self.bias\n",
        "        return self.out\n",
        "    \n",
        "    def parameters(self):\n",
        "        # returns all the params\n",
        "        return [self.weight] + ([self.bias] if self.bias else [])\n",
        "\n",
        "class BatchNorm1d:\n",
        "    # TODO: keep track of running mean and running bias , just for effeciency when we don't have to backpropagate to create everything , good to have those things on hand\n",
        "    \n",
        "    # we also need to maintain\n",
        "    def __init__(self,dim):\n",
        "        self.training = True\n",
        "        # initially everything is neutral, does not affect shit\n",
        "        self.gamma = torch.ones(dim) # like weights for normalization\n",
        "        self.beta = torch.zeros(dim) # bias for normalization\n",
        "\n",
        "    def __call__(self,x):\n",
        "        # ((xi - x_mean)/x_var) * gamma + beta\n",
        "        if(self.training):\n",
        "            # dimensions trivial here coz of 1D\n",
        "            mean = x.mean(0,keepdim= True)\n",
        "            var = x.var(0,keepdim=True)\n",
        "            # the denominator might become 0, so we add some non significant value\n",
        "            self.out = (x - mean) / torch.sqrt(var + 0.00001) \n",
        "            self.out = self.out * self.gamma + self.beta\n",
        "            \n",
        "        else:\n",
        "            # TODO: return the running mean and var\n",
        "            pass\n",
        "\n",
        "        return self.out            \n",
        "\n",
        "    def parameters(self):\n",
        "        return [self.gamma] + [self.beta]\n",
        "\n"
      ]
    },
    {
      "cell_type": "code",
      "execution_count": null,
      "id": "aa3bca3a",
      "metadata": {},
      "outputs": [],
      "source": []
    }
  ],
  "metadata": {
    "colab": {
      "provenance": []
    },
    "kernelspec": {
      "display_name": "Python 3 (ipykernel)",
      "language": "python",
      "name": "python3"
    },
    "language_info": {
      "codemirror_mode": {
        "name": "ipython",
        "version": 3
      },
      "file_extension": ".py",
      "mimetype": "text/x-python",
      "name": "python",
      "nbconvert_exporter": "python",
      "pygments_lexer": "ipython3",
      "version": "3.12.3"
    }
  },
  "nbformat": 4,
  "nbformat_minor": 5
}
