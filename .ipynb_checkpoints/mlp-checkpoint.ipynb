{
 "cells": [
  {
   "cell_type": "code",
   "execution_count": 49,
   "id": "b0887959-1e39-4e58-b2e6-c71117fac7ed",
   "metadata": {},
   "outputs": [
    {
     "name": "stdout",
     "output_type": "stream",
     "text": [
      "32033\n"
     ]
    }
   ],
   "source": [
    "import torch\n",
    "words = (open('names.txt','r')).read().splitlines()\n",
    "print(len(words))"
   ]
  },
  {
   "cell_type": "code",
   "execution_count": 56,
   "id": "f1de2abe-5554-4e0f-84d0-820ea55f2afb",
   "metadata": {},
   "outputs": [
    {
     "data": {
      "text/plain": [
       "['emma', 'olivia', 'ava', 'isabella', 'sophia', 'charlotte']"
      ]
     },
     "execution_count": 56,
     "metadata": {},
     "output_type": "execute_result"
    }
   ],
   "source": [
    "words[:6]"
   ]
  },
  {
   "cell_type": "code",
   "execution_count": 140,
   "id": "1a5a4b02-f405-4fbf-9a31-6c19c85e7c18",
   "metadata": {},
   "outputs": [
    {
     "name": "stdout",
     "output_type": "stream",
     "text": [
      "[[0, 5, 13], [5, 13, 13]]\n"
     ]
    }
   ],
   "source": [
    "X = []\n",
    "Y = []\n",
    "\n",
    "def get(s):\n",
    "    return (ord(s) - ord('a')) + 1\n",
    "\n",
    "for word in words[:6]:\n",
    "    for i in range(len(word)):\n",
    "        now = [0, 0, 0]\n",
    "        now1 = 0\n",
    "        now[1] = get(word[i])\n",
    "        if(i - 1 >= 0):\n",
    "            now[0] = get(word[i-1])\n",
    "        if(i + 1 < len(word)):\n",
    "            now[2] = get(word[i+1])\n",
    "        if(i + 2 < len(word)):\n",
    "            now1 = get(word[i+2])\n",
    "        X.append(now)\n",
    "        Y.append(now1)\n",
    "\n",
    "print(X[:2])\n",
    "#print(Y)"
   ]
  },
  {
   "cell_type": "code",
   "execution_count": 141,
   "id": "f7168d20-2666-47cb-88cf-eb4e83ce2aef",
   "metadata": {},
   "outputs": [
    {
     "data": {
      "text/plain": [
       "torch.Size([27, 2])"
      ]
     },
     "execution_count": 141,
     "metadata": {},
     "output_type": "execute_result"
    }
   ],
   "source": [
    "# uff, we have the dataset, now we make preparations\n",
    "\n",
    "C = torch.randn((27,2)) # this is the lookup table\n",
    "C.shape"
   ]
  },
  {
   "cell_type": "code",
   "execution_count": 142,
   "id": "f520f324-ddf9-48a2-8dc4-08f1dd83d65f",
   "metadata": {},
   "outputs": [
    {
     "name": "stdout",
     "output_type": "stream",
     "text": [
      "36\n"
     ]
    }
   ],
   "source": [
    "# we need to prepare it for processing by the hidden layer\n",
    "# so we need to....?\n",
    "# we need to linearise the data C[X] so that it is easier to play with\n",
    "# we convert [36,3,2] to [36,6] by just putting all three things linearly \n",
    "C[X].view(len(C[X]),-1).shape\n",
    "print(len(C[X]))\n",
    "\n",
    "# I guess that's what was needed"
   ]
  },
  {
   "cell_type": "code",
   "execution_count": 143,
   "id": "121a02f5-68f8-4a04-8e20-4a04aee2fade",
   "metadata": {},
   "outputs": [
    {
     "data": {
      "text/plain": [
       "torch.Size([36, 100])"
      ]
     },
     "execution_count": 143,
     "metadata": {},
     "output_type": "execute_result"
    }
   ],
   "source": [
    "W1 = torch.randn(6,100)\n",
    "B1 = torch.randn(100)\n",
    "\n",
    "((C[X].view(len(C[X]),-1)) @ W1 + B1).shape"
   ]
  },
  {
   "cell_type": "code",
   "execution_count": 144,
   "id": "d1bf8979-97a8-432f-bda5-95938e209bc4",
   "metadata": {},
   "outputs": [],
   "source": [
    "# now the processing is done and everything is normalized and this goes to the hidden layer"
   ]
  },
  {
   "cell_type": "code",
   "execution_count": null,
   "id": "2f94445d-8222-4ec7-ae46-f84f68269419",
   "metadata": {},
   "outputs": [],
   "source": []
  }
 ],
 "metadata": {
  "kernelspec": {
   "display_name": "Python 3 (ipykernel)",
   "language": "python",
   "name": "python3"
  },
  "language_info": {
   "codemirror_mode": {
    "name": "ipython",
    "version": 3
   },
   "file_extension": ".py",
   "mimetype": "text/x-python",
   "name": "python",
   "nbconvert_exporter": "python",
   "pygments_lexer": "ipython3",
   "version": "3.12.3"
  }
 },
 "nbformat": 4,
 "nbformat_minor": 5
}
